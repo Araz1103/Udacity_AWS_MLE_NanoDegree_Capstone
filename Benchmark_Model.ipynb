{
 "cells": [
  {
   "cell_type": "markdown",
   "id": "f269eb5a",
   "metadata": {},
   "source": [
    "### Let's try HP Tuning on this too, which can help us later"
   ]
  },
  {
   "cell_type": "code",
   "execution_count": 4,
   "id": "bad020b4",
   "metadata": {},
   "outputs": [],
   "source": [
    "%%capture\n",
    "!pip install smdebug torch torchvision tqdm"
   ]
  },
  {
   "cell_type": "code",
   "execution_count": 5,
   "id": "f0800ebd",
   "metadata": {},
   "outputs": [],
   "source": [
    "import sagemaker\n",
    "import boto3\n",
    "from sagemaker.tuner import CategoricalParameter, ContinuousParameter, HyperparameterTuner\n",
    "from sagemaker.pytorch import PyTorch\n",
    "from sagemaker import get_execution_role\n",
    "from sagemaker.debugger import Rule, DebuggerHookConfig, TensorBoardOutputConfig, CollectionConfig, ProfilerRule, rule_configs\n",
    "from sagemaker.debugger import ProfilerConfig, FrameworkProfile\n",
    "from smdebug.trials import create_trial\n",
    "from smdebug.core.modes import ModeKeys\n",
    "from smdebug.profiler.analysis.notebook_utils.training_job import TrainingJob\n",
    "from smdebug.profiler.analysis.notebook_utils.timeline_charts import TimelineCharts\n",
    "from smdebug import modes\n",
    "import matplotlib as mpl\n",
    "import matplotlib.pyplot as plt\n",
    "import os\n",
    "import IPython"
   ]
  },
  {
   "cell_type": "code",
   "execution_count": 27,
   "id": "c4875e8f",
   "metadata": {},
   "outputs": [
    {
     "data": {
      "text/plain": [
       "{'batch_size': 32, 'learning_rate': '0.005'}"
      ]
     },
     "execution_count": 27,
     "metadata": {},
     "output_type": "execute_result"
    }
   ],
   "source": [
    "hyperparameters = {\"batch_size\": 32, \\\n",
    "                   \"learning_rate\": \"0.005\"}\n",
    "hyperparameters"
   ]
  },
  {
   "cell_type": "code",
   "execution_count": 28,
   "id": "c5c915e1",
   "metadata": {},
   "outputs": [],
   "source": [
    "role = sagemaker.get_execution_role()"
   ]
  },
  {
   "cell_type": "code",
   "execution_count": 29,
   "id": "ed7a8292",
   "metadata": {},
   "outputs": [],
   "source": [
    "estimator = PyTorch(\n",
    "    entry_point='model_train_benchmark.py',\n",
    "    base_job_name='benchmark-bins',\n",
    "    role=role,\n",
    "    instance_count=1,\n",
    "    instance_type=\"ml.p3.2xlarge\",\n",
    "    framework_version='1.4.0',\n",
    "    py_version='py3',\n",
    "    hyperparameters=hyperparameters,\n",
    ")"
   ]
  },
  {
   "cell_type": "code",
   "execution_count": 30,
   "id": "adb8f3c1",
   "metadata": {},
   "outputs": [],
   "source": [
    "os.environ['SM_CHANNEL_TRAINING']='s3://sagemaker-studio-0qajs6acpsz/BinDataset/'\n",
    "os.environ['SM_MODEL_DIR']='s3://sagemaker-studio-0qajs6acpsz/model/'\n",
    "os.environ['SM_OUTPUT_DATA_DIR']='s3://sagemaker-studio-0qajs6acpsz/output/'\n",
    "estimator.fit({\"training\": \"s3://sagemaker-studio-0qajs6acpsz/BinDataset/\"}, wait=False)"
   ]
  },
  {
   "cell_type": "code",
   "execution_count": null,
   "id": "6e6595bb",
   "metadata": {},
   "outputs": [],
   "source": []
  }
 ],
 "metadata": {
  "kernelspec": {
   "display_name": "conda_pytorch_p36",
   "language": "python",
   "name": "conda_pytorch_p36"
  },
  "language_info": {
   "codemirror_mode": {
    "name": "ipython",
    "version": 3
   },
   "file_extension": ".py",
   "mimetype": "text/x-python",
   "name": "python",
   "nbconvert_exporter": "python",
   "pygments_lexer": "ipython3",
   "version": "3.6.13"
  }
 },
 "nbformat": 4,
 "nbformat_minor": 5
}
